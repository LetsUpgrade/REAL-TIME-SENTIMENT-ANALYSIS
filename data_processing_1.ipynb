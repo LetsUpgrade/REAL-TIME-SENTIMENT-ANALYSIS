{
 "cells": [
  {
   "cell_type": "code",
   "execution_count": null,
   "metadata": {
    "colab": {},
    "colab_type": "code",
    "id": "6LqvvhGx-8Q3"
   },
   "outputs": [],
   "source": [
    "import pandas as pd\n",
    "import nltk\n",
    "import re\n",
    "import nltk\n",
    "from nltk.corpus import stopwords\n",
    "from nltk.stem import PorterStemmer\n",
    "from nltk.stem import WordNetLemmatizer\n",
    "ps = PorterStemmer()\n",
    "ls = WordNetLemmatizer()"
   ]
  },
  {
   "cell_type": "code",
   "execution_count": null,
   "metadata": {
    "colab": {},
    "colab_type": "code",
    "id": "294wWae0_HM6"
   },
   "outputs": [],
   "source": [
    "from google.colab import drive\n",
    "drive.mount('/content/drive')"
   ]
  },
  {
   "cell_type": "code",
   "execution_count": null,
   "metadata": {
    "colab": {},
    "colab_type": "code",
    "id": "frcHi_lI-8RA",
    "outputId": "fd7145bf-8ecd-4d99-a3df-847db8b67c17"
   },
   "outputs": [
    {
     "name": "stdout",
     "output_type": "stream",
     "text": [
      "(211746, 12)\n",
      "0         How has #PTSD affected this writer's #quaranti...\n",
      "1          #blackandyellow #Love #moments #september #Au...\n",
      "2         Things I Do In My Spare Time Play Game 1- Eco ...\n",
      "3         每天花5-30分钟进行正念冥想。使用此链接可帮助您开始冥想：https://www.apa....\n",
      "4         Your #Quarantine #MovieList: THE HOUSE ON SORO...\n",
      "                                ...                        \n",
      "211741    A man in Gujranwala* got his ass kicked by his...\n",
      "211742    @joobsie Astaga! Dua kali aku kena slap malam ...\n",
      "211743    RT @sfrizwan: #ViolenceAgainstMen RT @AmazingS...\n",
      "211744    #ViolenceAgainstMen RT @AmazingSusan Women rap...\n",
      "211745    Spotlight On Male Victims Of Domestic Abuse ht...\n",
      "Name: text, Length: 211746, dtype: object\n"
     ]
    }
   ],
   "source": [
    "df = pd.read_csv(\"Dataset.csv\")              \n",
    "print(df.shape)\n",
    "tweets = df['text']\n",
    "print(tweets)"
   ]
  },
  {
   "cell_type": "code",
   "execution_count": null,
   "metadata": {
    "colab": {},
    "colab_type": "code",
    "id": "CvvNdgFA-8RN"
   },
   "outputs": [],
   "source": [
    "def decontracted(phrase):\n",
    "    # specific\n",
    "    phrase = re.sub(r\"won\\'t\", \"will not\", phrase)\n",
    "    phrase = re.sub(r\"can\\'t\", \"can not\", phrase)\n",
    "\n",
    "    # general\n",
    "    phrase = re.sub(r\"n\\'t\", \" not\", phrase)\n",
    "    phrase = re.sub(r\"\\'re\", \" are\", phrase)\n",
    "    phrase = re.sub(r\"\\'s\", \" is\", phrase)\n",
    "    phrase = re.sub(r\"\\'d\", \" would\", phrase)\n",
    "    phrase = re.sub(r\"\\'ll\", \" will\", phrase)\n",
    "    phrase = re.sub(r\"\\'t\", \" not\", phrase)\n",
    "    phrase = re.sub(r\"\\'ve\", \" have\", phrase)\n",
    "    phrase = re.sub(r\"\\'m\", \" am\", phrase)\n",
    "    return phrase"
   ]
  },
  {
   "cell_type": "code",
   "execution_count": null,
   "metadata": {
    "colab": {},
    "colab_type": "code",
    "id": "vn5kKupP-8RV",
    "outputId": "55904362-9927-48bb-d4ed-6aeb4e44f918"
   },
   "outputs": [
    {
     "data": {
      "text/plain": [
       "0         [how, has, affected, this, writer, is, experie...\n",
       "1                                                        []\n",
       "2         [things, i, do, in, my, spare, time, play, gam...\n",
       "3                                                        []\n",
       "4         [your, the, house, on, sorority, row, my, review]\n",
       "                                ...                        \n",
       "211741    [a, man, in, gujranwala, got, his, ass, kicked...\n",
       "211742    [astaga, dua, kali, aku, kena, slap, malam, ni...\n",
       "211743                       [rt, rt, women, rape, men, in]\n",
       "211744                           [rt, women, rape, men, in]\n",
       "211745    [spotlight, on, male, victims, of, domestic, a...\n",
       "Name: text, Length: 211746, dtype: object"
      ]
     },
     "execution_count": 23,
     "metadata": {
      "tags": []
     },
     "output_type": "execute_result"
    }
   ],
   "source": [
    "stop_words = set(stopwords.words('english'))\n",
    "def cleaning(text):\n",
    "    text = decontracted(text)\n",
    "    text = text.lower()                              #lowering the text\n",
    "    text = re.sub(r'@\\S+','',text)                   #Removed @mentions\n",
    "    text = re.sub(r'#\\S+','',text)                   #Remove the hyper link\n",
    "    text = re.sub(r'RT\\S+','',text)                  #Removing ReTweets\n",
    "    text = re.sub(r'https?\\S+','',text)              #Remove the hyper link\n",
    "    text = re.sub('[^a-z]',' ',text)              #Remove the character other than alphabet\n",
    "    text = text.split()\n",
    "    return text\n",
    "tweets_cleaned =  tweets.apply(cleaning)\n",
    "tweets_cleaned"
   ]
  },
  {
   "cell_type": "code",
   "execution_count": null,
   "metadata": {
    "colab": {},
    "colab_type": "code",
    "id": "jIRICSWS-8Rb"
   },
   "outputs": [],
   "source": [
    "stop_words = set(stopwords.words('english'))\n",
    "tweets_stemmed = tweets_cleaned.apply(lambda x: [ps.stem(word) for word in x if word not in stop_words])\n",
    "tweets_lemmatized = tweets_cleaned.apply(lambda x: [ls.lemmatize(word) for word in x if word not in stop_words])"
   ]
  },
  {
   "cell_type": "code",
   "execution_count": null,
   "metadata": {
    "colab": {},
    "colab_type": "code",
    "id": "G8JzEP2c-8Rg"
   },
   "outputs": [],
   "source": [
    "tweets_stemmed = tweets_stemmed.apply(lambda x: ' '.join(x))\n",
    "tweets_lemmatized = tweets_lemmatized.apply(lambda x: ' '.join(x))"
   ]
  },
  {
   "cell_type": "code",
   "execution_count": null,
   "metadata": {
    "colab": {},
    "colab_type": "code",
    "id": "4MBpgzrW-8Rn"
   },
   "outputs": [],
   "source": [
    "df['scrapped_text'] = df['text']\n",
    "df['Lemmatized_text'] = tweets_lemmatized.to_frame() \n",
    "df['Stemmed_text'] = tweets_lemmatized.to_frame()\n",
    "new_df=df.drop(['Unnamed: 0', 'id', 'permalink', 'username', 'to', 'text', 'date','retweets', 'favorites', 'mentions', 'hashtags', 'geo',],axis=1)"
   ]
  },
  {
   "cell_type": "code",
   "execution_count": null,
   "metadata": {
    "colab": {},
    "colab_type": "code",
    "id": "Ee8Ultrn-8Ru",
    "outputId": "e3f38654-cd4a-4dd3-f14b-b54dcf223445"
   },
   "outputs": [
    {
     "data": {
      "text/html": [
       "<div>\n",
       "<style scoped>\n",
       "    .dataframe tbody tr th:only-of-type {\n",
       "        vertical-align: middle;\n",
       "    }\n",
       "\n",
       "    .dataframe tbody tr th {\n",
       "        vertical-align: top;\n",
       "    }\n",
       "\n",
       "    .dataframe thead th {\n",
       "        text-align: right;\n",
       "    }\n",
       "</style>\n",
       "<table border=\"1\" class=\"dataframe\">\n",
       "  <thead>\n",
       "    <tr style=\"text-align: right;\">\n",
       "      <th></th>\n",
       "      <th>scrapped_text</th>\n",
       "      <th>Lemmatized_text</th>\n",
       "      <th>Stemmed_text</th>\n",
       "    </tr>\n",
       "  </thead>\n",
       "  <tbody>\n",
       "    <tr>\n",
       "      <th>0</th>\n",
       "      <td>How has #PTSD affected this writer's #quaranti...</td>\n",
       "      <td>affected writer experience click link find</td>\n",
       "      <td>affected writer experience click link find</td>\n",
       "    </tr>\n",
       "    <tr>\n",
       "      <th>1</th>\n",
       "      <td>#blackandyellow #Love #moments #september #Au...</td>\n",
       "      <td></td>\n",
       "      <td></td>\n",
       "    </tr>\n",
       "    <tr>\n",
       "      <th>2</th>\n",
       "      <td>Things I Do In My Spare Time Play Game 1- Eco ...</td>\n",
       "      <td>thing spare time play game eco unisex tee usd ...</td>\n",
       "      <td>thing spare time play game eco unisex tee usd ...</td>\n",
       "    </tr>\n",
       "    <tr>\n",
       "      <th>3</th>\n",
       "      <td>每天花5-30分钟进行正念冥想。使用此链接可帮助您开始冥想：https://www.apa....</td>\n",
       "      <td></td>\n",
       "      <td></td>\n",
       "    </tr>\n",
       "    <tr>\n",
       "      <th>4</th>\n",
       "      <td>Your #Quarantine #MovieList: THE HOUSE ON SORO...</td>\n",
       "      <td>house sorority row review</td>\n",
       "      <td>house sorority row review</td>\n",
       "    </tr>\n",
       "  </tbody>\n",
       "</table>\n",
       "</div>"
      ],
      "text/plain": [
       "                                       scrapped_text  \\\n",
       "0  How has #PTSD affected this writer's #quaranti...   \n",
       "1   #blackandyellow #Love #moments #september #Au...   \n",
       "2  Things I Do In My Spare Time Play Game 1- Eco ...   \n",
       "3  每天花5-30分钟进行正念冥想。使用此链接可帮助您开始冥想：https://www.apa....   \n",
       "4  Your #Quarantine #MovieList: THE HOUSE ON SORO...   \n",
       "\n",
       "                                     Lemmatized_text  \\\n",
       "0         affected writer experience click link find   \n",
       "1                                                      \n",
       "2  thing spare time play game eco unisex tee usd ...   \n",
       "3                                                      \n",
       "4                          house sorority row review   \n",
       "\n",
       "                                        Stemmed_text  \n",
       "0         affected writer experience click link find  \n",
       "1                                                     \n",
       "2  thing spare time play game eco unisex tee usd ...  \n",
       "3                                                     \n",
       "4                          house sorority row review  "
      ]
     },
     "execution_count": 27,
     "metadata": {
      "tags": []
     },
     "output_type": "execute_result"
    }
   ],
   "source": [
    "new_df.head()"
   ]
  },
  {
   "cell_type": "code",
   "execution_count": null,
   "metadata": {
    "colab": {},
    "colab_type": "code",
    "id": "NQvK0GRb-8R0"
   },
   "outputs": [],
   "source": [
    "new_df.to_csv('New_Dataset_3.csv')"
   ]
  },
  {
   "cell_type": "markdown",
   "metadata": {
    "colab_type": "text",
    "id": "TUnCQY7U-8R-"
   },
   "source": [
    "## Model Building Starts From here"
   ]
  },
  {
   "cell_type": "code",
   "execution_count": null,
   "metadata": {
    "colab": {},
    "colab_type": "code",
    "id": "hdLewv-FDqDU"
   },
   "outputs": [],
   "source": [
    "import pandas as pd\n",
    "import nltk\n",
    "import re\n",
    "import nltk\n",
    "from nltk.corpus import stopwords\n",
    "from nltk.stem import PorterStemmer\n",
    "from nltk.stem import WordNetLemmatizer\n",
    "ps = PorterStemmer()\n",
    "ls = WordNetLemmatizer()"
   ]
  },
  {
   "cell_type": "code",
   "execution_count": null,
   "metadata": {
    "colab": {},
    "colab_type": "code",
    "id": "QNXT5YBy-8R_"
   },
   "outputs": [],
   "source": [
    "df=pd.read_csv('New_Dataset_3.csv')"
   ]
  },
  {
   "cell_type": "code",
   "execution_count": null,
   "metadata": {
    "colab": {
     "base_uri": "https://localhost:8080/",
     "height": 255
    },
    "colab_type": "code",
    "id": "CqgoHfrO-8SD",
    "outputId": "18831510-747c-4a00-ebc0-b52c01caa607"
   },
   "outputs": [],
   "source": [
    "df.head()"
   ]
  },
  {
   "cell_type": "code",
   "execution_count": null,
   "metadata": {
    "colab": {
     "base_uri": "https://localhost:8080/",
     "height": 34
    },
    "colab_type": "code",
    "id": "k7b7zbcx-8SO",
    "outputId": "f0d7d444-4681-4c20-c307-2041416dd02e"
   },
   "outputs": [],
   "source": [
    "df.shape"
   ]
  },
  {
   "cell_type": "code",
   "execution_count": null,
   "metadata": {
    "colab": {
     "base_uri": "https://localhost:8080/",
     "height": 102
    },
    "colab_type": "code",
    "id": "CwWna0Yq-8SV",
    "outputId": "08924add-c1f8-45f7-db38-6e13a97765c7"
   },
   "outputs": [],
   "source": [
    "df.isnull().sum()"
   ]
  },
  {
   "cell_type": "code",
   "execution_count": null,
   "metadata": {
    "colab": {},
    "colab_type": "code",
    "id": "nKxYc0zV-8Sd"
   },
   "outputs": [],
   "source": [
    "df=df.dropna(axis=0)"
   ]
  },
  {
   "cell_type": "code",
   "execution_count": null,
   "metadata": {
    "colab": {
     "base_uri": "https://localhost:8080/",
     "height": 34
    },
    "colab_type": "code",
    "id": "ObRNhiN1-8Sh",
    "outputId": "eb61a3e0-211d-4621-c036-4989df3c3ad9"
   },
   "outputs": [],
   "source": [
    "df.shape"
   ]
  },
  {
   "cell_type": "markdown",
   "metadata": {
    "colab_type": "text",
    "id": "b0SVIszU-8Sm"
   },
   "source": [
    "## Creating Stemmed AND Lemmatized text Dataset"
   ]
  },
  {
   "cell_type": "code",
   "execution_count": null,
   "metadata": {
    "colab": {},
    "colab_type": "code",
    "id": "ir8nOVl5-8Sn"
   },
   "outputs": [],
   "source": [
    "stem_df=df[['Stemmed_text']]\n",
    "lemm_df=df[['Lemmatized_text']]"
   ]
  },
  {
   "cell_type": "code",
   "execution_count": null,
   "metadata": {
    "colab": {
     "base_uri": "https://localhost:8080/",
     "height": 105
    },
    "colab_type": "code",
    "id": "p2esmu_7-8Su",
    "outputId": "2018acbf-088a-4853-8eb9-76d0029b78bf"
   },
   "outputs": [],
   "source": [
    "nltk.download('vader_lexicon')\n",
    "from nltk.sentiment.vader import SentimentIntensityAnalyzer\n",
    "sid=SentimentIntensityAnalyzer()"
   ]
  },
  {
   "cell_type": "code",
   "execution_count": null,
   "metadata": {
    "colab": {
     "base_uri": "https://localhost:8080/",
     "height": 119
    },
    "colab_type": "code",
    "id": "7DnN2hbi-8Sz",
    "outputId": "5ec1b649-996e-43c4-c9e9-5c62c9098c53"
   },
   "outputs": [],
   "source": [
    "stem_df['scores']=stem_df['Stemmed_text'].apply(lambda Stemmed_text :sid.polarity_scores(Stemmed_text))"
   ]
  },
  {
   "cell_type": "code",
   "execution_count": null,
   "metadata": {
    "colab": {
     "base_uri": "https://localhost:8080/",
     "height": 119
    },
    "colab_type": "code",
    "id": "KWfb1Yd3-8S4",
    "outputId": "ff6a3a7b-465f-4fb5-ebdb-84b32068a545"
   },
   "outputs": [],
   "source": [
    "stem_df['compound']=stem_df['scores'].apply(lambda score_dict:score_dict['compound'])"
   ]
  },
  {
   "cell_type": "code",
   "execution_count": null,
   "metadata": {
    "colab": {},
    "colab_type": "code",
    "id": "K7jqIYgx-8TA"
   },
   "outputs": [],
   "source": [
    "stem_df['comp_score']=stem_df['compound'].apply(lambda c:'pos' if c>=0 else \"neg\")"
   ]
  },
  {
   "cell_type": "code",
   "execution_count": null,
   "metadata": {
    "colab": {
     "base_uri": "https://localhost:8080/",
     "height": 204
    },
    "colab_type": "code",
    "id": "rZ3sLmnS-8TH",
    "outputId": "a6f495eb-3bc3-4aad-d194-d67b6486a655"
   },
   "outputs": [],
   "source": [
    "stem_df.head()"
   ]
  },
  {
   "cell_type": "code",
   "execution_count": null,
   "metadata": {
    "colab": {
     "base_uri": "https://localhost:8080/",
     "height": 68
    },
    "colab_type": "code",
    "id": "atdvb8XRjq6O",
    "outputId": "26733ee7-67dc-406e-b04b-a0e1593e0c9e"
   },
   "outputs": [],
   "source": [
    "stem_df['comp_score'].value_counts()"
   ]
  },
  {
   "cell_type": "code",
   "execution_count": null,
   "metadata": {
    "colab": {},
    "colab_type": "code",
    "id": "p2GkNpO8-8TO"
   },
   "outputs": [],
   "source": [
    "## Try to play with this number and check how much it work in bag of words \n",
    "stem_df=stem_df.iloc[:20000]"
   ]
  },
  {
   "cell_type": "code",
   "execution_count": null,
   "metadata": {
    "colab": {
     "base_uri": "https://localhost:8080/",
     "height": 34
    },
    "colab_type": "code",
    "id": "T7A07yCn-8TV",
    "outputId": "2b987a2a-f62e-4b90-e39c-6a364f2efb64"
   },
   "outputs": [],
   "source": [
    "stem_df.shape"
   ]
  },
  {
   "cell_type": "markdown",
   "metadata": {
    "colab_type": "text",
    "id": "iJnaDBG5-8Ta"
   },
   "source": [
    "## Implementing Bag of Words.\n"
   ]
  },
  {
   "cell_type": "code",
   "execution_count": null,
   "metadata": {
    "colab": {},
    "colab_type": "code",
    "id": "oxkRBujr-8Tb"
   },
   "outputs": [],
   "source": [
    "from sklearn.feature_extraction.text import CountVectorizer\n",
    "cv=CountVectorizer()\n",
    "\n",
    "X=cv.fit_transform(stem_df['Stemmed_text']).toarray()\n",
    "Y=pd.get_dummies(stem_df['comp_score'])\n",
    "Y=Y.iloc[:,1].values"
   ]
  },
  {
   "cell_type": "code",
   "execution_count": null,
   "metadata": {
    "colab": {
     "base_uri": "https://localhost:8080/",
     "height": 34
    },
    "colab_type": "code",
    "id": "FBRKfIjVi6IO",
    "outputId": "35c5d607-fe96-4804-97a8-493fdf288362"
   },
   "outputs": [],
   "source": [
    "Y"
   ]
  },
  {
   "cell_type": "code",
   "execution_count": null,
   "metadata": {
    "colab": {
     "base_uri": "https://localhost:8080/",
     "height": 34
    },
    "colab_type": "code",
    "id": "2u0m7a6N-8Th",
    "outputId": "b684fb91-c689-4e99-8495-08298eaa37ed"
   },
   "outputs": [],
   "source": [
    "X.shape,Y.shape"
   ]
  },
  {
   "cell_type": "markdown",
   "metadata": {
    "colab_type": "text",
    "id": "CSlRAOEw-8Ts"
   },
   "source": [
    "## Train Test Split"
   ]
  },
  {
   "cell_type": "code",
   "execution_count": null,
   "metadata": {
    "colab": {},
    "colab_type": "code",
    "id": "idfZB_20-8Tt"
   },
   "outputs": [],
   "source": [
    "from sklearn.model_selection  import train_test_split\n",
    "\n",
    "x_train,x_test,y_train,y_test = train_test_split(X,Y,test_size=0.2,random_state=1)"
   ]
  },
  {
   "cell_type": "markdown",
   "metadata": {
    "colab_type": "text",
    "id": "WRw3Vd4--8T1"
   },
   "source": [
    "## Naive Bayes "
   ]
  },
  {
   "cell_type": "code",
   "execution_count": null,
   "metadata": {
    "colab": {},
    "colab_type": "code",
    "id": "__HSmy-S-8T1"
   },
   "outputs": [],
   "source": [
    "from sklearn.naive_bayes import MultinomialNB\n",
    "model=MultinomialNB().fit(x_train,y_train)"
   ]
  },
  {
   "cell_type": "code",
   "execution_count": null,
   "metadata": {
    "colab": {},
    "colab_type": "code",
    "id": "JGRYBn97B2_2"
   },
   "outputs": [],
   "source": [
    "y_pred=model.predict(x_test)"
   ]
  },
  {
   "cell_type": "markdown",
   "metadata": {
    "colab_type": "text",
    "id": "VPgLGObvEVGz"
   },
   "source": [
    "## Finding accuracy_score and printing confusion_matrix and classification_report"
   ]
  },
  {
   "cell_type": "code",
   "execution_count": null,
   "metadata": {
    "colab": {
     "base_uri": "https://localhost:8080/",
     "height": 34
    },
    "colab_type": "code",
    "id": "MY-cxQs2D89Y",
    "outputId": "ca19e489-322c-49a3-8294-59cb8bcd4880"
   },
   "outputs": [],
   "source": [
    "from sklearn.metrics import confusion_matrix,accuracy_score,classification_report\n",
    "accuracy_score(y_test,y_pred)  #Testing Score"
   ]
  },
  {
   "cell_type": "code",
   "execution_count": null,
   "metadata": {
    "colab": {
     "base_uri": "https://localhost:8080/",
     "height": 34
    },
    "colab_type": "code",
    "id": "9JzhpRb7lFD5",
    "outputId": "e828bd07-7f13-4e5e-cf9e-7caee2300801"
   },
   "outputs": [],
   "source": [
    "accuracy_score(y_train, model.predict(x_train))  #Training Score"
   ]
  },
  {
   "cell_type": "code",
   "execution_count": null,
   "metadata": {
    "colab": {
     "base_uri": "https://localhost:8080/",
     "height": 51
    },
    "colab_type": "code",
    "id": "Dne9knFHEdm_",
    "outputId": "aa7014b9-0aa7-40e1-cc48-b0f3ae30498d"
   },
   "outputs": [],
   "source": [
    "confusion_matrix(y_test,y_pred)"
   ]
  },
  {
   "cell_type": "code",
   "execution_count": null,
   "metadata": {
    "colab": {
     "base_uri": "https://localhost:8080/",
     "height": 170
    },
    "colab_type": "code",
    "id": "Rd43MgwXEeSp",
    "outputId": "a667cce0-c727-4ed1-ba91-d0a66e51e734"
   },
   "outputs": [],
   "source": [
    "print(classification_report(y_test,y_pred))"
   ]
  },
  {
   "cell_type": "markdown",
   "metadata": {
    "colab_type": "text",
    "id": "msDd8pz0Ese9"
   },
   "source": [
    "## Predicting a new tweet sentiments."
   ]
  },
  {
   "cell_type": "code",
   "execution_count": null,
   "metadata": {
    "colab": {},
    "colab_type": "code",
    "id": "9aM7d7i7Ei90"
   },
   "outputs": [],
   "source": [
    "df=pd.DataFrame([\"i am tweeting because there is domestic violence spreading everywhere\"],columns=['new_tweet'])"
   ]
  },
  {
   "cell_type": "code",
   "execution_count": null,
   "metadata": {
    "colab": {
     "base_uri": "https://localhost:8080/",
     "height": 80
    },
    "colab_type": "code",
    "id": "buX8thA3FLl3",
    "outputId": "d66ed6a8-1236-45d1-f274-3857f1803a9d"
   },
   "outputs": [],
   "source": [
    "df   "
   ]
  },
  {
   "cell_type": "code",
   "execution_count": null,
   "metadata": {
    "colab": {
     "base_uri": "https://localhost:8080/",
     "height": 51
    },
    "colab_type": "code",
    "id": "-RcqZ6lvFfGy",
    "outputId": "8c077855-a56a-4946-fc9c-0ae401e8ee80"
   },
   "outputs": [],
   "source": [
    "def decontracted(phrase):\n",
    "    # specific\n",
    "    phrase = re.sub(r\"won\\'t\", \"will not\", phrase)\n",
    "    phrase = re.sub(r\"can\\'t\", \"can not\", phrase)\n",
    "\n",
    "    # general\n",
    "    phrase = re.sub(r\"n\\'t\", \" not\", phrase)\n",
    "    phrase = re.sub(r\"\\'re\", \" are\", phrase)\n",
    "    phrase = re.sub(r\"\\'s\", \" is\", phrase)\n",
    "    phrase = re.sub(r\"\\'d\", \" would\", phrase)\n",
    "    phrase = re.sub(r\"\\'ll\", \" will\", phrase)\n",
    "    phrase = re.sub(r\"\\'t\", \" not\", phrase)\n",
    "    phrase = re.sub(r\"\\'ve\", \" have\", phrase)\n",
    "    phrase = re.sub(r\"\\'m\", \" am\", phrase)\n",
    "    return phrase\n",
    "\n",
    "nltk.download('stopwords')\n",
    "def cleaning(text):\n",
    "    corpus = []\n",
    "    text = decontracted(text)\n",
    "    text = text.lower()                              #lowering the text\n",
    "    text = re.sub(r'@\\S+','',text)                   #Removed @mentions\n",
    "    text = re.sub(r'#\\S+','',text)                   #Remove the hyper link\n",
    "    text = re.sub(r'RT\\S+','',text)                  #Removing ReTweets\n",
    "    text = re.sub(r'https?\\S+','',text)              #Remove the hyper link\n",
    "    text = re.sub('[^a-z]',' ',text)              #Remove the character other than alphabet\n",
    "    text = text.split()\n",
    "    text=[ps.stem(word) for word in text if word not in stopwords.words('english')]\n",
    "    text=' '.join(text)\n",
    "    corpus.append(text)\n",
    "    return corpus"
   ]
  },
  {
   "cell_type": "code",
   "execution_count": null,
   "metadata": {
    "colab": {
     "base_uri": "https://localhost:8080/",
     "height": 34
    },
    "colab_type": "code",
    "id": "w-6o3YcpFNoH",
    "outputId": "648d64a3-4802-4b10-a093-898b1c938a7c"
   },
   "outputs": [],
   "source": [
    "tweet=df['new_tweet']\n",
    "tweet_cleaned =  cleaning(tweet[0])\n",
    "type(tweet_cleaned)"
   ]
  },
  {
   "cell_type": "code",
   "execution_count": null,
   "metadata": {
    "colab": {
     "base_uri": "https://localhost:8080/",
     "height": 51
    },
    "colab_type": "code",
    "id": "2JAC6Y-9FyK8",
    "outputId": "c661f37e-2469-4b7c-af7d-e8488fbf27bb"
   },
   "outputs": [],
   "source": [
    "df=cv.transform(tweet_cleaned).toarray()\n",
    "\n",
    "pred=model.predict(df)\n",
    "\n",
    "label=pred[0]\n",
    "\n",
    "if label==1:\n",
    "  print('Positive')\n",
    "else:\n",
    "  print('Negative')"
   ]
  },
  {
   "cell_type": "markdown",
   "metadata": {},
   "source": [
    "## Saving the model"
   ]
  },
  {
   "cell_type": "code",
   "execution_count": null,
   "metadata": {
    "colab": {
     "base_uri": "https://localhost:8080/",
     "height": 231
    },
    "colab_type": "code",
    "id": "0or_0BFpGY4m",
    "outputId": "f2d39023-4d19-48cd-ac0c-108013f4f032"
   },
   "outputs": [],
   "source": [
    "from pickle import dump\n",
    "\n",
    "dump(cv,open('pickle/countvectorizer.pkl','wb'))\n",
    "\n",
    "dump(model,open('pickle/model.pkl','wb'))"
   ]
  },
  {
   "cell_type": "markdown",
   "metadata": {
    "colab": {},
    "colab_type": "code",
    "id": "ShqGNUWdo_HN"
   },
   "source": [
    "## Predicting new tweet"
   ]
  },
  {
   "cell_type": "code",
   "execution_count": null,
   "metadata": {},
   "outputs": [],
   "source": [
    "def decontracted(phrase):\n",
    "    # specific\n",
    "    phrase = re.sub(r\"won\\'t\", \"will not\", phrase)\n",
    "    phrase = re.sub(r\"can\\'t\", \"can not\", phrase)\n",
    "\n",
    "    # general\n",
    "    phrase = re.sub(r\"n\\'t\", \" not\", phrase)\n",
    "    phrase = re.sub(r\"\\'re\", \" are\", phrase)\n",
    "    phrase = re.sub(r\"\\'s\", \" is\", phrase)\n",
    "    phrase = re.sub(r\"\\'d\", \" would\", phrase)\n",
    "    phrase = re.sub(r\"\\'ll\", \" will\", phrase)\n",
    "    phrase = re.sub(r\"\\'t\", \" not\", phrase)\n",
    "    phrase = re.sub(r\"\\'ve\", \" have\", phrase)\n",
    "    phrase = re.sub(r\"\\'m\", \" am\", phrase)\n",
    "    return phrase\n",
    "\n",
    "nltk.download('stopwords')\n",
    "def cleaning(text):\n",
    "    corpus = []\n",
    "    text = decontracted(text)\n",
    "    text = text.lower()                              #lowering the text\n",
    "    text = re.sub(r'@\\S+','',text)                   #Removed @mentions\n",
    "    text = re.sub(r'#\\S+','',text)                   #Remove the hyper link\n",
    "    text = re.sub(r'RT\\S+','',text)                  #Removing ReTweets\n",
    "    text = re.sub(r'https?\\S+','',text)              #Remove the hyper link\n",
    "    text = re.sub('[^a-z]',' ',text)              #Remove the character other than alphabet\n",
    "    text = text.split()\n",
    "    text=[ps.stem(word) for word in text if word not in stopwords.words('english')]\n",
    "    text=' '.join(text)\n",
    "    corpus.append(text)\n",
    "    return corpus"
   ]
  },
  {
   "cell_type": "code",
   "execution_count": null,
   "metadata": {},
   "outputs": [],
   "source": [
    "from pickle import load\n",
    "\n",
    "def predict(input_msg):\n",
    "    vectorizer = load(open('pickle/countvectorizer.pkl','rb'))\n",
    "    \n",
    "    classifier = load(open('pickle/model.pkl','rb'))\n",
    "    \n",
    "    clean_text = cleaning(input_msg)\n",
    "    \n",
    "    clean_text_encoded = vectorizer.transform(clean_text)\n",
    "    \n",
    "    future_text = clean_text_encoded.toarray()\n",
    "    \n",
    "    prediction = classifier.predict(future_text)\n",
    "    \n",
    "    return prediction"
   ]
  },
  {
   "cell_type": "code",
   "execution_count": null,
   "metadata": {},
   "outputs": [],
   "source": [
    "input_tweet = input()"
   ]
  },
  {
   "cell_type": "code",
   "execution_count": 65,
   "metadata": {},
   "outputs": [],
   "source": [
    "prediction = predict(input_tweet)"
   ]
  },
  {
   "cell_type": "code",
   "execution_count": 66,
   "metadata": {},
   "outputs": [
    {
     "name": "stdout",
     "output_type": "stream",
     "text": [
      "Positive\n"
     ]
    }
   ],
   "source": [
    "if prediction == 1:\n",
    "  print('Positive')\n",
    "else:\n",
    "  print('Negative')"
   ]
  }
 ],
 "metadata": {
  "colab": {
   "collapsed_sections": [],
   "name": "data_processing.ipynb",
   "provenance": []
  },
  "kernelspec": {
   "display_name": "Python 3",
   "language": "python",
   "name": "python3"
  },
  "language_info": {
   "codemirror_mode": {
    "name": "ipython",
    "version": 3
   },
   "file_extension": ".py",
   "mimetype": "text/x-python",
   "name": "python",
   "nbconvert_exporter": "python",
   "pygments_lexer": "ipython3",
   "version": "3.7.3"
  },
  "toc": {
   "base_numbering": 1,
   "nav_menu": {},
   "number_sections": true,
   "sideBar": true,
   "skip_h1_title": false,
   "title_cell": "Table of Contents",
   "title_sidebar": "Contents",
   "toc_cell": false,
   "toc_position": {},
   "toc_section_display": true,
   "toc_window_display": false
  }
 },
 "nbformat": 4,
 "nbformat_minor": 1
}
